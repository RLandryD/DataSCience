{
  "nbformat": 4,
  "nbformat_minor": 0,
  "metadata": {
    "colab": {
      "name": "watermarking with cv.ipynb",
      "provenance": [],
      "authorship_tag": "ABX9TyMUpJTo1B/KKxrnIa41PUjh",
      "include_colab_link": true
    },
    "kernelspec": {
      "name": "python3",
      "display_name": "Python 3"
    },
    "language_info": {
      "name": "python"
    }
  },
  "cells": [
    {
      "cell_type": "markdown",
      "metadata": {
        "id": "view-in-github",
        "colab_type": "text"
      },
      "source": [
        "<a href=\"https://colab.research.google.com/github/RLandryD/DataSCience/blob/main/watermarking_with_cv.ipynb\" target=\"_parent\"><img src=\"https://colab.research.google.com/assets/colab-badge.svg\" alt=\"Open In Colab\"/></a>"
      ]
    },
    {
      "cell_type": "code",
      "execution_count": null,
      "metadata": {
        "id": "Z36PWfXZhHAW"
      },
      "outputs": [],
      "source": [
        "# Important library imports\n",
        "import cv2\n",
        "import numpy as np\n",
        "import requests\n",
        "from PIL import Image"
      ]
    },
    {
      "cell_type": "code",
      "source": [
        "from requests.models import stream_decode_response_unicode\n",
        "#Rading the image from an URL\n",
        "image = Image.open(requests.get('https://media.sproutsocial.com/uploads/2017/02/10x-featured-social-media-image-size.png', stream=True).raw)\n",
        "image_logow = image.resize((500, 300))\n",
        "image_textw = image.resize((500, 300))\n",
        "image_logow"
      ],
      "metadata": {
        "colab": {
          "base_uri": "https://localhost:8080/",
          "height": 317
        },
        "id": "9a2bAej1hO2M",
        "outputId": "c4be9f74-e019-4739-ab62-eb0a72fbeac3"
      },
      "execution_count": null,
      "outputs": [
        {
          "output_type": "execute_result",
          "data": {
            "text/plain": [
              "<PIL.Image.Image image mode=RGB size=500x300 at 0x7F90488BAE90>"
            ],
            "image/png": "[encoded data removed]"
          },
          "metadata": {},
          "execution_count": 22
        }
      ]
    },
    {
      "cell_type": "code",
      "source": [
        "# Reading the logo from the URL\n",
        "logo = Image.open(requests.get('https://1000marcas.net/wp-content/uploads/2020/02/logo-Google.png', stream=True).raw)\n",
        "logo_logow = logo.resize((192, 108))\n",
        "logo_textw = logo.resize((192, 108))\n",
        "print(logo.size)\n",
        "logo_logow"
      ],
      "metadata": {
        "colab": {
          "base_uri": "https://localhost:8080/",
          "height": 142
        },
        "id": "FjNKB0FshsoB",
        "outputId": "0cdaee64-709e-4342-aa40-f05f47e31c02"
      },
      "execution_count": null,
      "outputs": [
        {
          "output_type": "stream",
          "name": "stdout",
          "text": [
            "(3840, 2160)\n"
          ]
        },
        {
          "output_type": "execute_result",
          "data": {
            "text/plain": [
              "<PIL.Image.Image image mode=P size=192x108 at 0x7F9047DC9AD0>"
            ],
            "image/png": "[encoded data removed]"
          },
          "metadata": {},
          "execution_count": 23
        }
      ]
    },
    {
      "cell_type": "code",
      "source": [
        "image_logow = np.array(image_logow.convert('RGB'))\n",
        "h_image, w_image, _ = image_logow.shape\n",
        "logo_logow = np.array(logo_logow.convert('RGB'))\n",
        "h_logo, w_logo, _ = logo_logow.shape"
      ],
      "metadata": {
        "colab": {
          "base_uri": "https://localhost:8080/"
        },
        "id": "DyBL2o2OpaXj",
        "outputId": "d6ad2a81-cdf8-4e05-9e16-d9ebeedaeada"
      },
      "execution_count": null,
      "outputs": [
        {
          "output_type": "stream",
          "name": "stderr",
          "text": [
            "/usr/local/lib/python3.7/dist-packages/PIL/Image.py:960: UserWarning: Palette images with Transparency expressed in bytes should be converted to RGBA images\n",
            "  \"Palette images with Transparency expressed in bytes should be \"\n"
          ]
        }
      ]
    },
    {
      "cell_type": "code",
      "source": [
        "# Get the center of the original image. It's the location where we will place the watermark\n",
        "\n",
        "center_y = int(h_image /2)\n",
        "center_x = int(w_image / 2)\n",
        "top_y = center_y - int(h_logo/2)\n",
        "left_x = center_x - int(w_logo/2)\n",
        "bottom_y = top_y + h_logo\n",
        "right_x = left_x + w_logo\n",
        "print(center_x)\n",
        "print(w_logo)\n",
        "print(right_x)\n",
        "print(left_x)\n",
        "print(image_logow.shape)"
      ],
      "metadata": {
        "colab": {
          "base_uri": "https://localhost:8080/"
        },
        "id": "9vjRHUirLdft",
        "outputId": "a95f61a6-0bd3-4306-c7d3-d50c86084f37"
      },
      "execution_count": null,
      "outputs": [
        {
          "output_type": "stream",
          "name": "stdout",
          "text": [
            "250\n",
            "192\n",
            "346\n",
            "154\n",
            "(300, 500, 3)\n"
          ]
        }
      ]
    },
    {
      "cell_type": "code",
      "source": [
        "# Get ROI\n",
        "roi = image_logow[top_y: bottom_y, left_x: right_x]\n",
        "# Add the logo to the ROI\n",
        "result = cv2.addWeighted(roi, 1, logo_logow, 1, 0)\n",
        "# Drawing\n",
        "cv2.line(image_logow, (0, center_y), (left_x, center_y), (0, 0, 255), 1)\n",
        "cv2.line(image_logow, (right_x, center_y), (w_image, center_y), (0, 0, 255), 1)\n",
        "# Replace the ROI on the image\n",
        "image_logow[top_y: bottom_y, left_x: right_x] = result"
      ],
      "metadata": {
        "id": "EPyTph-uNHPI"
      },
      "execution_count": null,
      "outputs": []
    },
    {
      "cell_type": "code",
      "source": [
        "# Plotting the logo watermark into the image\n",
        "img = Image.fromarray(image_logow, 'RGB')\n",
        "img"
      ],
      "metadata": {
        "colab": {
          "base_uri": "https://localhost:8080/",
          "height": 317
        },
        "id": "QCWwws2JRphT",
        "outputId": "35407f36-59c0-4fc3-bf83-3edf9cbe65f1"
      },
      "execution_count": null,
      "outputs": [
        {
          "output_type": "execute_result",
          "data": {
            "text/plain": [
              "<PIL.Image.Image image mode=RGB size=500x300 at 0x7F9047CA7190>"
            ],
            "image/png": "[encoded data removed]"
          },
          "metadata": {},
          "execution_count": 45
        }
      ]
    },
    {
      "cell_type": "code",
      "source": [
        "# Text watermark\n",
        "image_text = np.array(image_textw.convert('RGB'))\n",
        "cv2.putText(image_text, text='Google', org=(w_image - 95, h_image - 10), fontFace=cv2.FONT_HERSHEY_COMPLEX,\n",
        "            fontScale=0.5, color=(0, 0, 255), thickness = 2, lineType = cv2.LINE_4);"
      ],
      "metadata": {
        "id": "5emafIvqSQrX"
      },
      "execution_count": null,
      "outputs": []
    },
    {
      "cell_type": "code",
      "source": [
        "imgtxt = Image.fromarray(image_text, 'RGB')\n",
        "imgtxt"
      ],
      "metadata": {
        "colab": {
          "base_uri": "https://localhost:8080/",
          "height": 317
        },
        "id": "DHVtLCzdTItr",
        "outputId": "1ba056d1-5336-4d67-8421-f9e4ed13aa24"
      },
      "execution_count": null,
      "outputs": [
        {
          "output_type": "execute_result",
          "data": {
            "text/plain": [
              "<PIL.Image.Image image mode=RGB size=500x300 at 0x7F9047C37E10>"
            ],
            "image/png": "[encoded data removed]"
          },
          "metadata": {},
          "execution_count": 50
        }
      ]
    }
  ]
}